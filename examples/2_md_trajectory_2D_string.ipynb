{
 "cells": [
  {
   "cell_type": "markdown",
   "id": "86451bbe",
   "metadata": {},
   "source": [
    "# Minimum free energy paths in 2D free energy landscapes computed from MD simulation trajectories"
   ]
  },
  {
   "cell_type": "code",
   "execution_count": null,
   "id": "e8272af6",
   "metadata": {},
   "outputs": [],
   "source": []
  }
 ],
 "metadata": {
  "kernelspec": {
   "display_name": "Python 3",
   "language": "python",
   "name": "python3"
  },
  "language_info": {
   "codemirror_mode": {
    "name": "ipython",
    "version": 3
   },
   "file_extension": ".py",
   "mimetype": "text/x-python",
   "name": "python",
   "nbconvert_exporter": "python",
   "pygments_lexer": "ipython3",
   "version": "3.8.5"
  }
 },
 "nbformat": 4,
 "nbformat_minor": 5
}
